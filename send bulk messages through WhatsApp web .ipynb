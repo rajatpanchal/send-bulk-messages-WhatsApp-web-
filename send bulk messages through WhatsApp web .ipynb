{
 "cells": [
  {
   "cell_type": "code",
   "execution_count": null,
   "id": "8936187c",
   "metadata": {},
   "outputs": [],
   "source": [
    "# final code send msg with img\n",
    "import csv\n",
    "from time import sleep\n",
    "import pywhatkit\n",
    "import pandas as pd \n",
    "#the contat list as below\n",
    "# phones=pd.read_excel('Recipients data.xlsx', sheet_name='Recipients')\n",
    "phones1 = [\"++91 99999999999\"]\n",
    "phones1\n",
    "#send messages in a random time& minutes\n",
    "for phone in phones1:\n",
    "    pywhatkit.sendwhats_image(phone,img_path=\"C:\\\\Users\\\\rajat\\\\Downloads\\\\1._100_ways_to_motivate_yourself.PDF\",caption=\"Ignore This is automation Test Message\",wait_time=10)\n",
    "            \n",
    "print('finish')"
   ]
  },
  {
   "cell_type": "code",
   "execution_count": null,
   "id": "8a4b814b",
   "metadata": {},
   "outputs": [],
   "source": []
  },
  {
   "cell_type": "code",
   "execution_count": null,
   "id": "3a48ae0c",
   "metadata": {},
   "outputs": [],
   "source": [
    "# Program to send bulk messages through WhatsApp web from an excel sheet without saving contact numbers\n",
    "# Author @Rajat Kumar\n",
    "\n",
    "from selenium import webdriver\n",
    "from selenium.webdriver.support.ui import WebDriverWait\n",
    "from selenium.webdriver.support import expected_conditions as EC\n",
    "from selenium.webdriver.common.by import By\n",
    "from webdriver_manager.chrome import ChromeDriverManager\n",
    "from time import sleep\n",
    "import pandas\n",
    "\n",
    "excel_data = pandas.read_excel('Recipients data.xlsx', sheet_name='Recipients')\n",
    "\n",
    "count = 0\n",
    "\n",
    "driver = webdriver.Chrome(ChromeDriverManager().install())\n",
    "driver.get('https://web.whatsapp.com')\n",
    "input(\"Press ENTER after login into Whatsapp Web and your chats are visiable.\")\n",
    "for column in excel_data['Contact'].tolist():\n",
    "    try:\n",
    "        url = 'https://web.whatsapp.com/send?phone=' + str(excel_data['Contact'][count]) + '&text=' + excel_data['Message'][0]\n",
    "        sent = False\n",
    "        # It tries 3 times to send a message in case if there any error occurred\n",
    "        driver.get(url)\n",
    "        try:\n",
    "            click_btn = WebDriverWait(driver, 35).until(\n",
    "                EC.element_to_be_clickable((By.CLASS_NAME, '_3HQNh._1Ae7k')))\n",
    "        except Exception as e:\n",
    "            print(\"Sorry message could not sent to \" + str(excel_data['Contact'][count]))\n",
    "        else:\n",
    "            sleep(2)\n",
    "            click_btn.click()\n",
    "            sent = True\n",
    "            sleep(5)\n",
    "            print('Message sent to: ' + str(excel_data['Contact'][count]))\n",
    "        count = count + 1\n",
    "    except Exception as e:\n",
    "        print('Failed to send message to ' + str(excel_data['Contact'][count]) + str(e))\n",
    "driver.quit()\n",
    "print(\"The script executed successfully.\")"
   ]
  },
  {
   "cell_type": "code",
   "execution_count": null,
   "id": "cc68fc55",
   "metadata": {},
   "outputs": [],
   "source": []
  }
 ],
 "metadata": {
  "kernelspec": {
   "display_name": "Python 3 (ipykernel)",
   "language": "python",
   "name": "python3"
  },
  "language_info": {
   "codemirror_mode": {
    "name": "ipython",
    "version": 3
   },
   "file_extension": ".py",
   "mimetype": "text/x-python",
   "name": "python",
   "nbconvert_exporter": "python",
   "pygments_lexer": "ipython3",
   "version": "3.8.10"
  }
 },
 "nbformat": 4,
 "nbformat_minor": 5
}
